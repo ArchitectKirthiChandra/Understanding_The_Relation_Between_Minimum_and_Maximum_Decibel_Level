{
 "cells": [
  {
   "cell_type": "markdown",
   "id": "c998897d",
   "metadata": {},
   "source": [
    "# <center><font color='#000000'>Title:: Understanding The Relation Between Minimum and Maximum Decibel Level<font><a class='anchor' id='top'></a></center>"
   ]
  },
  {
   "cell_type": "markdown",
   "id": "e84bd1ef",
   "metadata": {},
   "source": [
    "<div style=\"text-align: right;\">\n",
    "    <h3>-- Kirthi Chandra, H. Akanksha</h3>\n",
    "</div>"
   ]
  },
  {
   "cell_type": "markdown",
   "id": "d6d8456a",
   "metadata": {},
   "source": [
    "### Table of Contents\n",
    "    \n",
    "* [1. Introduction](#chapter1)\n",
    "\n",
    "* [2. Data Health Review](#chapter2)\n",
    "\t* [2.1 Importing Libraries](#chapter2.1)\n",
    "\t* [2.2 Importing the Data](#chapter2.2)\n",
    "\t* [2.3 Data Cleaning and Preprocessing](#chapter2.3)\n",
    "\t\n",
    "* [3. Univariate and Bivariate Analysis](#chapter3)\n",
    "\n",
    "* [4. Linear Regression Algorithm](#chapter4)\n",
    "\n",
    "* [5. Evaluating the model](#chapter5)\n",
    "\n",
    "* [6. Conclusion](#chapter6)"
   ]
  },
  {
   "cell_type": "markdown",
   "id": "7ee5d2a2",
   "metadata": {},
   "source": [
    "## <center>1. Introduction <a class = \"anchor\" id = \"chapter1\"></a><center>\n",
    "    \n",
    "\n",
    "The exercise investigates the relation between maximum and minimum decibel levels and explores their performance individually using predictive modelling.\n",
    "\n",
    "**Study Area:**\n",
    "\n",
    "The site selected is near Assembly Metro Station in Hyderabad, India. In which we have collected maximum and minimum decibel level from 8th March, 2023 to 8th June, 2023.\n",
    "\n",
    "**Study Duration:**\n",
    "\n",
    "The research is aimed to measure the sound pressure levels at Assembly metro station on week days during the peak hours which are claimed to be between 9 am and 12 noon and 5 pm and 9 pm according to Deccan Chronicle. | Rachel Dammala Published on: April 23, 2023.Hence the recording is taken between 9:00 AM – 10:30 AM. The recording is taken on the concourse level of the metro station.\n",
    "\n",
    "**Sensor:**\n",
    "\n",
    "A mobile application has been used as a part of research, namely “Sound meter.” This Application has been developed in order to measure the Sound Pressure Levels (SPL) in decibels (dB), it is also developed to measure and detect the environment the measurement is been taken in. (The application cautions the users to beware of the errors that could be generated due to inefficiency of the device’s microphone so in order to check the efficiency the application advises one to go to a silent place and ensure the decibels are not more than 30dB. Which has been verified.)\n",
    "\n",
    "**Factors Affecting Noise Levels:**\n",
    "\n",
    "The parameters effecting the SPLs are Various Users Groups, traffic on the road, sound of train moving on the platform, sound of operating machines, announcement speaker sound and miscellaneous sounds.\n",
    "\n",
    "**Research Method:**\n",
    "\n",
    "Importing the dataset and considering only the relevant data fields by removing the redundant fields like Serial Number, Date, Time, duration and Detected Environment. There are no null values and duplicates in the dataset. The mean of minimum is 63 dB and maximum is 83 db. The outliers are removed as a treatment to make the model more reliable.\n",
    "\n",
    "Visualising the new dataset with line plots, scatter plot and correlation heatmap just to find that there is a least relation between the two variables. There is no clear relationship between the variables.\n",
    "\n",
    "**Linear Regression:**\n",
    "\n",
    "Splitting the data into training and testing with 70:30 ratio and then using Linear Regression algorithm from sklearn library. Fitting the training dataset.\n",
    "\n",
    "**Outcomes:**\n",
    "\n",
    "The results of measurements of the sound levels are observed to be averagely minimum of 63.15 dB and averagely maximum as 83.63 db. The environment detected by the application is always “Restaurant” with average range of SPLs as ~70dB.\n",
    "\n",
    "In summary, the obtained MSE of 8.7314 indicates that there is room for improvement in the model's accuracy, and the negative R2 score of -0.2622 suggests that the model is performing worse than a basic mean prediction model. Further analysis and adjustments may be needed to enhance the model's performance and better understand the relationships between the variables.\n"
   ]
  },
  {
   "cell_type": "markdown",
   "id": "7bf32e2b",
   "metadata": {},
   "source": [
    "## <center>2. Data Health Review <a class = \"anchor\" id = \"chapter2\"> </a></center>"
   ]
  },
  {
   "cell_type": "markdown",
   "id": "c8939516",
   "metadata": {},
   "source": [
    "### 2.1 Importing Libraries <a class = \"anchor\" id = \"chapter2.1\"> </a>"
   ]
  },
  {
   "cell_type": "code",
   "execution_count": 1,
   "id": "ea2e9387",
   "metadata": {},
   "outputs": [],
   "source": [
    "import pandas as pd\n",
    "import numpy as np\n",
    "\n",
    "import matplotlib.pyplot as plt\n",
    "import seaborn as sns\n",
    "\n",
    "from sklearn.metrics import r2_score, mean_squared_error\n",
    "from sklearn.model_selection import train_test_split\n",
    "from sklearn.linear_model import LinearRegression\n",
    "\n",
    "import warnings\n",
    "warnings.filterwarnings(\"ignore\", category=DeprecationWarning)"
   ]
  },
  {
   "cell_type": "markdown",
   "id": "e738b855",
   "metadata": {},
   "source": [
    "### 2.2 Importing the Data <a class = \"anchor\" id = \"chapter2.2\"></a>"
   ]
  },
  {
   "cell_type": "code",
   "execution_count": 2,
   "id": "c31cb96d",
   "metadata": {},
   "outputs": [
    {
     "data": {
      "text/html": [
       "<div>\n",
       "<style scoped>\n",
       "    .dataframe tbody tr th:only-of-type {\n",
       "        vertical-align: middle;\n",
       "    }\n",
       "\n",
       "    .dataframe tbody tr th {\n",
       "        vertical-align: top;\n",
       "    }\n",
       "\n",
       "    .dataframe thead th {\n",
       "        text-align: right;\n",
       "    }\n",
       "</style>\n",
       "<table border=\"1\" class=\"dataframe\">\n",
       "  <thead>\n",
       "    <tr style=\"text-align: right;\">\n",
       "      <th></th>\n",
       "      <th>Sno.</th>\n",
       "      <th>Date</th>\n",
       "      <th>Time</th>\n",
       "      <th>Duration (Sec)</th>\n",
       "      <th>Minimum (dB)</th>\n",
       "      <th>Maximum (dB)</th>\n",
       "      <th>Detected Environment</th>\n",
       "    </tr>\n",
       "  </thead>\n",
       "  <tbody>\n",
       "    <tr>\n",
       "      <th>0</th>\n",
       "      <td>1.0</td>\n",
       "      <td>2023-08-03 00:00:00</td>\n",
       "      <td>09:09:28</td>\n",
       "      <td>30.0</td>\n",
       "      <td>63.3</td>\n",
       "      <td>86.8</td>\n",
       "      <td>Restaurant (~70dB)</td>\n",
       "    </tr>\n",
       "    <tr>\n",
       "      <th>1</th>\n",
       "      <td>2.0</td>\n",
       "      <td>13/3/2023</td>\n",
       "      <td>09:20:19</td>\n",
       "      <td>32.0</td>\n",
       "      <td>64.6</td>\n",
       "      <td>86.5</td>\n",
       "      <td>Restaurant (~70dB)</td>\n",
       "    </tr>\n",
       "    <tr>\n",
       "      <th>2</th>\n",
       "      <td>3.0</td>\n",
       "      <td>14/3/2023</td>\n",
       "      <td>09:15:53</td>\n",
       "      <td>30.0</td>\n",
       "      <td>66.5</td>\n",
       "      <td>80.9</td>\n",
       "      <td>Restaurant (~70dB)</td>\n",
       "    </tr>\n",
       "  </tbody>\n",
       "</table>\n",
       "</div>"
      ],
      "text/plain": [
       "   Sno.                Date      Time   Duration (Sec)  Minimum (dB)  \\\n",
       "0   1.0  2023-08-03 00:00:00  09:09:28            30.0          63.3   \n",
       "1   2.0            13/3/2023  09:20:19            32.0          64.6   \n",
       "2   3.0            14/3/2023  09:15:53            30.0          66.5   \n",
       "\n",
       "   Maximum (dB) Detected Environment   \n",
       "0          86.8    Restaurant (~70dB)  \n",
       "1          86.5    Restaurant (~70dB)  \n",
       "2          80.9    Restaurant (~70dB)  "
      ]
     },
     "execution_count": 2,
     "metadata": {},
     "output_type": "execute_result"
    }
   ],
   "source": [
    "df = pd.read_excel('SOUND LEVELS AT METRO STATION.xlsx')\n",
    "df.head(3)## 2.2 Importing the Data <a class = \"anchor\" id = \"chapter2.2\"></a>"
   ]
  },
  {
   "cell_type": "markdown",
   "id": "7455de5b",
   "metadata": {},
   "source": [
    "### 2.3 Data Cleaning and Preprocessing <a class= \"anchor\" id = \"chapter2.3\"></a>"
   ]
  },
  {
   "cell_type": "markdown",
   "id": "55828d10",
   "metadata": {},
   "source": [
    "**The relevant data fields are minimum decibel and maximum decibel**"
   ]
  },
  {
   "cell_type": "code",
   "execution_count": 3,
   "id": "77ab5231",
   "metadata": {},
   "outputs": [
    {
     "name": "stdout",
     "output_type": "stream",
     "text": [
      "<class 'pandas.core.frame.DataFrame'>\n",
      "RangeIndex: 38 entries, 0 to 37\n",
      "Data columns (total 7 columns):\n",
      " #   Column                 Non-Null Count  Dtype  \n",
      "---  ------                 --------------  -----  \n",
      " 0   Sno.                   37 non-null     float64\n",
      " 1   Date                   37 non-null     object \n",
      " 2   Time                   37 non-null     object \n",
      " 3   Duration (Sec)         37 non-null     float64\n",
      " 4   Minimum (dB)           38 non-null     float64\n",
      " 5   Maximum (dB)           38 non-null     float64\n",
      " 6   Detected Environment   37 non-null     object \n",
      "dtypes: float64(4), object(3)\n",
      "memory usage: 2.2+ KB\n"
     ]
    }
   ],
   "source": [
    "df.info()"
   ]
  },
  {
   "cell_type": "code",
   "execution_count": 4,
   "id": "ff21c818",
   "metadata": {},
   "outputs": [
    {
     "data": {
      "text/plain": [
       "Index(['Sno.', 'Date ', 'Time ', 'Duration (Sec)', 'Minimum (dB)',\n",
       "       'Maximum (dB)', 'Detected Environment '],\n",
       "      dtype='object')"
      ]
     },
     "execution_count": 4,
     "metadata": {},
     "output_type": "execute_result"
    }
   ],
   "source": [
    "df.columns"
   ]
  },
  {
   "cell_type": "markdown",
   "id": "5eb5b465",
   "metadata": {},
   "source": [
    "**Removing the redundant fields like Serial Number, Date, Time, duration and Detected Environment**"
   ]
  },
  {
   "cell_type": "code",
   "execution_count": 5,
   "id": "e7743bcf",
   "metadata": {},
   "outputs": [],
   "source": [
    "df.drop(columns = ['Sno.', 'Date ', 'Time ', 'Duration (Sec)',  'Detected Environment '], inplace = True)"
   ]
  },
  {
   "cell_type": "code",
   "execution_count": 6,
   "id": "6e993f9a",
   "metadata": {},
   "outputs": [
    {
     "data": {
      "text/html": [
       "<div>\n",
       "<style scoped>\n",
       "    .dataframe tbody tr th:only-of-type {\n",
       "        vertical-align: middle;\n",
       "    }\n",
       "\n",
       "    .dataframe tbody tr th {\n",
       "        vertical-align: top;\n",
       "    }\n",
       "\n",
       "    .dataframe thead th {\n",
       "        text-align: right;\n",
       "    }\n",
       "</style>\n",
       "<table border=\"1\" class=\"dataframe\">\n",
       "  <thead>\n",
       "    <tr style=\"text-align: right;\">\n",
       "      <th></th>\n",
       "      <th>Minimum (dB)</th>\n",
       "      <th>Maximum (dB)</th>\n",
       "    </tr>\n",
       "  </thead>\n",
       "  <tbody>\n",
       "    <tr>\n",
       "      <th>0</th>\n",
       "      <td>63.3</td>\n",
       "      <td>86.8</td>\n",
       "    </tr>\n",
       "    <tr>\n",
       "      <th>1</th>\n",
       "      <td>64.6</td>\n",
       "      <td>86.5</td>\n",
       "    </tr>\n",
       "    <tr>\n",
       "      <th>2</th>\n",
       "      <td>66.5</td>\n",
       "      <td>80.9</td>\n",
       "    </tr>\n",
       "  </tbody>\n",
       "</table>\n",
       "</div>"
      ],
      "text/plain": [
       "   Minimum (dB)  Maximum (dB)\n",
       "0          63.3          86.8\n",
       "1          64.6          86.5\n",
       "2          66.5          80.9"
      ]
     },
     "execution_count": 6,
     "metadata": {},
     "output_type": "execute_result"
    }
   ],
   "source": [
    "df.head(3)"
   ]
  },
  {
   "cell_type": "code",
   "execution_count": 7,
   "id": "85010cdd",
   "metadata": {},
   "outputs": [
    {
     "data": {
      "text/plain": [
       "0"
      ]
     },
     "execution_count": 7,
     "metadata": {},
     "output_type": "execute_result"
    }
   ],
   "source": [
    "df.duplicated().sum()"
   ]
  },
  {
   "cell_type": "code",
   "execution_count": 8,
   "id": "faf3deef",
   "metadata": {},
   "outputs": [
    {
     "data": {
      "text/plain": [
       "Minimum (dB)    0\n",
       "Maximum (dB)    0\n",
       "dtype: int64"
      ]
     },
     "execution_count": 8,
     "metadata": {},
     "output_type": "execute_result"
    }
   ],
   "source": [
    "df.isnull().sum()"
   ]
  },
  {
   "cell_type": "markdown",
   "id": "f6c4664e",
   "metadata": {},
   "source": [
    "**There are no duplicates and null values in dataset**"
   ]
  },
  {
   "cell_type": "code",
   "execution_count": 9,
   "id": "c4bffe45",
   "metadata": {},
   "outputs": [
    {
     "data": {
      "text/html": [
       "<div>\n",
       "<style scoped>\n",
       "    .dataframe tbody tr th:only-of-type {\n",
       "        vertical-align: middle;\n",
       "    }\n",
       "\n",
       "    .dataframe tbody tr th {\n",
       "        vertical-align: top;\n",
       "    }\n",
       "\n",
       "    .dataframe thead th {\n",
       "        text-align: right;\n",
       "    }\n",
       "</style>\n",
       "<table border=\"1\" class=\"dataframe\">\n",
       "  <thead>\n",
       "    <tr style=\"text-align: right;\">\n",
       "      <th></th>\n",
       "      <th>Minimum (dB)</th>\n",
       "      <th>Maximum (dB)</th>\n",
       "    </tr>\n",
       "  </thead>\n",
       "  <tbody>\n",
       "    <tr>\n",
       "      <th>count</th>\n",
       "      <td>38.000000</td>\n",
       "      <td>38.000000</td>\n",
       "    </tr>\n",
       "    <tr>\n",
       "      <th>mean</th>\n",
       "      <td>63.156757</td>\n",
       "      <td>83.635135</td>\n",
       "    </tr>\n",
       "    <tr>\n",
       "      <th>std</th>\n",
       "      <td>10.217752</td>\n",
       "      <td>2.886803</td>\n",
       "    </tr>\n",
       "    <tr>\n",
       "      <th>min</th>\n",
       "      <td>29.500000</td>\n",
       "      <td>78.100000</td>\n",
       "    </tr>\n",
       "    <tr>\n",
       "      <th>25%</th>\n",
       "      <td>64.700000</td>\n",
       "      <td>80.900000</td>\n",
       "    </tr>\n",
       "    <tr>\n",
       "      <th>50%</th>\n",
       "      <td>66.500000</td>\n",
       "      <td>83.617568</td>\n",
       "    </tr>\n",
       "    <tr>\n",
       "      <th>75%</th>\n",
       "      <td>67.800000</td>\n",
       "      <td>86.600000</td>\n",
       "    </tr>\n",
       "    <tr>\n",
       "      <th>max</th>\n",
       "      <td>72.900000</td>\n",
       "      <td>87.000000</td>\n",
       "    </tr>\n",
       "  </tbody>\n",
       "</table>\n",
       "</div>"
      ],
      "text/plain": [
       "       Minimum (dB)  Maximum (dB)\n",
       "count     38.000000     38.000000\n",
       "mean      63.156757     83.635135\n",
       "std       10.217752      2.886803\n",
       "min       29.500000     78.100000\n",
       "25%       64.700000     80.900000\n",
       "50%       66.500000     83.617568\n",
       "75%       67.800000     86.600000\n",
       "max       72.900000     87.000000"
      ]
     },
     "execution_count": 9,
     "metadata": {},
     "output_type": "execute_result"
    }
   ],
   "source": [
    "df.describe()"
   ]
  },
  {
   "cell_type": "markdown",
   "id": "8387cfde",
   "metadata": {},
   "source": [
    "**The mean of minimum is 63 dB and maximum is 83 dB**"
   ]
  },
  {
   "cell_type": "code",
   "execution_count": 10,
   "id": "2943e51d",
   "metadata": {},
   "outputs": [
    {
     "data": {
      "text/plain": [
       "<AxesSubplot:>"
      ]
     },
     "execution_count": 10,
     "metadata": {},
     "output_type": "execute_result"
    },
    {
     "data": {
      "image/png": "[encoded data removed]",
      "text/plain": [
       "<Figure size 432x288 with 1 Axes>"
      ]
     },
     "metadata": {
      "needs_background": "light"
     },
     "output_type": "display_data"
    }
   ],
   "source": [
    "df.plot(kind = 'box')"
   ]
  },
  {
   "cell_type": "markdown",
   "id": "5d6f27a4",
   "metadata": {},
   "source": [
    "**There are few outliers and are removed**"
   ]
  },
  {
   "cell_type": "code",
   "execution_count": 11,
   "id": "d2a76cdf",
   "metadata": {},
   "outputs": [],
   "source": [
    "df = df[df['Minimum (dB)'] > 55]"
   ]
  },
  {
   "cell_type": "code",
   "execution_count": 12,
   "id": "6bc69290",
   "metadata": {},
   "outputs": [
    {
     "data": {
      "text/html": [
       "<div>\n",
       "<style scoped>\n",
       "    .dataframe tbody tr th:only-of-type {\n",
       "        vertical-align: middle;\n",
       "    }\n",
       "\n",
       "    .dataframe tbody tr th {\n",
       "        vertical-align: top;\n",
       "    }\n",
       "\n",
       "    .dataframe thead th {\n",
       "        text-align: right;\n",
       "    }\n",
       "</style>\n",
       "<table border=\"1\" class=\"dataframe\">\n",
       "  <thead>\n",
       "    <tr style=\"text-align: right;\">\n",
       "      <th></th>\n",
       "      <th>Minimum (dB)</th>\n",
       "      <th>Maximum (dB)</th>\n",
       "    </tr>\n",
       "  </thead>\n",
       "  <tbody>\n",
       "    <tr>\n",
       "      <th>0</th>\n",
       "      <td>63.3</td>\n",
       "      <td>86.8</td>\n",
       "    </tr>\n",
       "    <tr>\n",
       "      <th>1</th>\n",
       "      <td>64.6</td>\n",
       "      <td>86.5</td>\n",
       "    </tr>\n",
       "    <tr>\n",
       "      <th>2</th>\n",
       "      <td>66.5</td>\n",
       "      <td>80.9</td>\n",
       "    </tr>\n",
       "    <tr>\n",
       "      <th>3</th>\n",
       "      <td>63.2</td>\n",
       "      <td>78.1</td>\n",
       "    </tr>\n",
       "    <tr>\n",
       "      <th>4</th>\n",
       "      <td>69.1</td>\n",
       "      <td>80.5</td>\n",
       "    </tr>\n",
       "  </tbody>\n",
       "</table>\n",
       "</div>"
      ],
      "text/plain": [
       "   Minimum (dB)  Maximum (dB)\n",
       "0          63.3          86.8\n",
       "1          64.6          86.5\n",
       "2          66.5          80.9\n",
       "3          63.2          78.1\n",
       "4          69.1          80.5"
      ]
     },
     "execution_count": 12,
     "metadata": {},
     "output_type": "execute_result"
    }
   ],
   "source": [
    "df.head()"
   ]
  },
  {
   "cell_type": "code",
   "execution_count": 13,
   "id": "1ce833a2",
   "metadata": {},
   "outputs": [
    {
     "data": {
      "text/plain": [
       "(34, 2)"
      ]
     },
     "execution_count": 13,
     "metadata": {},
     "output_type": "execute_result"
    }
   ],
   "source": [
    "df.shape"
   ]
  },
  {
   "cell_type": "code",
   "execution_count": 14,
   "id": "a5470c46",
   "metadata": {},
   "outputs": [
    {
     "data": {
      "text/plain": [
       "Index(['Minimum (dB)', 'Maximum (dB)'], dtype='object')"
      ]
     },
     "execution_count": 14,
     "metadata": {},
     "output_type": "execute_result"
    }
   ],
   "source": [
    "df.columns"
   ]
  },
  {
   "cell_type": "markdown",
   "id": "4d1dc811",
   "metadata": {},
   "source": [
    "## <center>3. Univariate and Bivariate Analysis <a class = \"anchor\" id = \"chapter3\"> </a></center>"
   ]
  },
  {
   "cell_type": "markdown",
   "id": "f70fa422",
   "metadata": {},
   "source": [
    "**Visualising the Minimum and Maximum decibel throughout the Dataset**"
   ]
  },
  {
   "cell_type": "code",
   "execution_count": 15,
   "id": "8fb5c21c",
   "metadata": {},
   "outputs": [
    {
     "data": {
      "image/png": "[encoded data removed]",
      "text/plain": [
       "<Figure size 1152x360 with 1 Axes>"
      ]
     },
     "metadata": {
      "needs_background": "light"
     },
     "output_type": "display_data"
    }
   ],
   "source": [
    "plt.figure(figsize = (16,5))\n",
    "\n",
    "plt.plot( range(len(df['Minimum (dB)'])), df['Maximum (dB)'])\n",
    "plt.plot( range(len(df['Minimum (dB)'])), df['Minimum (dB)'])\n",
    "\n",
    "plt.legend(['max_sound_Decibel', 'min_sound_Decibel'])\n",
    "plt.xlabel('Days')\n",
    "plt.ylabel('Decibel')\n",
    "plt.title('Graph showing the Maximum and minimum Decibel')\n",
    "plt.grid()\n",
    "plt.show();"
   ]
  },
  {
   "cell_type": "markdown",
   "id": "e9b5a2de",
   "metadata": {},
   "source": [
    "**A Scatter plot shows that there is no relation**"
   ]
  },
  {
   "cell_type": "code",
   "execution_count": 16,
   "id": "70c5ceb2",
   "metadata": {},
   "outputs": [
    {
     "data": {
      "image/png": "[encoded data removed]",
      "text/plain": [
       "<Figure size 720x576 with 1 Axes>"
      ]
     },
     "metadata": {
      "needs_background": "light"
     },
     "output_type": "display_data"
    }
   ],
   "source": [
    "plt.figure(figsize = (10,8))\n",
    "plt.scatter(data = df, x = 'Minimum (dB)', y = 'Maximum (dB)')\n",
    "\n",
    "\n",
    "plt.xlabel('Minimum (dB)')\n",
    "plt.ylabel('Maximum (dB)')\n",
    "plt.title('Scatter Plot of Minimum vs Maximum Decibel (dB)')\n",
    "plt.legend(['Data_points'])\n",
    "plt.show()"
   ]
  },
  {
   "cell_type": "code",
   "execution_count": 17,
   "id": "8d4eca41",
   "metadata": {},
   "outputs": [
    {
     "data": {
      "image/png": "[encoded data removed]",
      "text/plain": [
       "<Figure size 720x360 with 2 Axes>"
      ]
     },
     "metadata": {
      "needs_background": "light"
     },
     "output_type": "display_data"
    }
   ],
   "source": [
    "plt.figure(figsize = (10,5))\n",
    "plt.title('Correlation between Minimum vs Maximum Decibel (dB)')\n",
    "\n",
    "sns.heatmap(df.corr(), annot = True);"
   ]
  },
  {
   "cell_type": "code",
   "execution_count": 18,
   "id": "85d20da2",
   "metadata": {},
   "outputs": [
    {
     "data": {
      "text/html": [
       "<div>\n",
       "<style scoped>\n",
       "    .dataframe tbody tr th:only-of-type {\n",
       "        vertical-align: middle;\n",
       "    }\n",
       "\n",
       "    .dataframe tbody tr th {\n",
       "        vertical-align: top;\n",
       "    }\n",
       "\n",
       "    .dataframe thead th {\n",
       "        text-align: right;\n",
       "    }\n",
       "</style>\n",
       "<table border=\"1\" class=\"dataframe\">\n",
       "  <thead>\n",
       "    <tr style=\"text-align: right;\">\n",
       "      <th></th>\n",
       "      <th>Minimum (dB)</th>\n",
       "      <th>Maximum (dB)</th>\n",
       "    </tr>\n",
       "  </thead>\n",
       "  <tbody>\n",
       "    <tr>\n",
       "      <th>Minimum (dB)</th>\n",
       "      <td>1.000000</td>\n",
       "      <td>0.016932</td>\n",
       "    </tr>\n",
       "    <tr>\n",
       "      <th>Maximum (dB)</th>\n",
       "      <td>0.016932</td>\n",
       "      <td>1.000000</td>\n",
       "    </tr>\n",
       "  </tbody>\n",
       "</table>\n",
       "</div>"
      ],
      "text/plain": [
       "              Minimum (dB)  Maximum (dB)\n",
       "Minimum (dB)      1.000000      0.016932\n",
       "Maximum (dB)      0.016932      1.000000"
      ]
     },
     "execution_count": 18,
     "metadata": {},
     "output_type": "execute_result"
    }
   ],
   "source": [
    "df.corr()"
   ]
  },
  {
   "cell_type": "markdown",
   "id": "75c57b97",
   "metadata": {},
   "source": [
    "**This indicates a weak or no correlation, meaning that there is no clear linear relationship between the variables.**"
   ]
  },
  {
   "cell_type": "code",
   "execution_count": 19,
   "id": "076b32c0",
   "metadata": {},
   "outputs": [
    {
     "data": {
      "image/png": "[encoded data removed]",
      "text/plain": [
       "<Figure size 360x360 with 6 Axes>"
      ]
     },
     "metadata": {
      "needs_background": "light"
     },
     "output_type": "display_data"
    }
   ],
   "source": [
    "sns.pairplot(df);"
   ]
  },
  {
   "cell_type": "code",
   "execution_count": 20,
   "id": "c08be36f",
   "metadata": {},
   "outputs": [
    {
     "data": {
      "text/plain": [
       "Index(['Minimum (dB)', 'Maximum (dB)'], dtype='object')"
      ]
     },
     "execution_count": 20,
     "metadata": {},
     "output_type": "execute_result"
    }
   ],
   "source": [
    "df.columns"
   ]
  },
  {
   "cell_type": "markdown",
   "id": "59849a54",
   "metadata": {},
   "source": [
    "## <center>4. Linear Regression Algorithm <a class = \"anchor\" id = \"chapter4\"> </a></center>"
   ]
  },
  {
   "cell_type": "markdown",
   "id": "7e8727fd",
   "metadata": {},
   "source": [
    "**Splitting the data into training and testing sets**"
   ]
  },
  {
   "cell_type": "code",
   "execution_count": 21,
   "id": "b715fd3c",
   "metadata": {},
   "outputs": [],
   "source": [
    "X = df['Minimum (dB)']\n",
    "y = df['Maximum (dB)']\n",
    "\n",
    "X_train, X_test, y_train, y_test = train_test_split(X,y, test_size = 0.3, random_state = 29)\n"
   ]
  },
  {
   "cell_type": "code",
   "execution_count": 22,
   "id": "4de4c830",
   "metadata": {},
   "outputs": [
    {
     "data": {
      "text/plain": [
       "(23,)"
      ]
     },
     "execution_count": 22,
     "metadata": {},
     "output_type": "execute_result"
    }
   ],
   "source": [
    "X_train.shape"
   ]
  },
  {
   "cell_type": "code",
   "execution_count": 23,
   "id": "dd7fa52f",
   "metadata": {},
   "outputs": [],
   "source": [
    "X_train = pd.DataFrame(X_train)"
   ]
  },
  {
   "cell_type": "code",
   "execution_count": 24,
   "id": "15874811",
   "metadata": {},
   "outputs": [],
   "source": [
    "y_train = pd.DataFrame(y_train)"
   ]
  },
  {
   "cell_type": "code",
   "execution_count": 25,
   "id": "03651718",
   "metadata": {},
   "outputs": [],
   "source": [
    "X_test = pd.DataFrame(X_test)"
   ]
  },
  {
   "cell_type": "markdown",
   "id": "4c3e8b28",
   "metadata": {},
   "source": [
    "**Training the Linear Regression model**"
   ]
  },
  {
   "cell_type": "code",
   "execution_count": 26,
   "id": "a071ffe7",
   "metadata": {},
   "outputs": [],
   "source": [
    "lr = LinearRegression()"
   ]
  },
  {
   "cell_type": "code",
   "execution_count": 27,
   "id": "7b962ad0",
   "metadata": {},
   "outputs": [],
   "source": [
    "lr = lr.fit(X_train, y_train)"
   ]
  },
  {
   "cell_type": "code",
   "execution_count": 28,
   "id": "ea1a7732",
   "metadata": {},
   "outputs": [],
   "source": [
    "predicted = lr.predict(X_test)"
   ]
  },
  {
   "cell_type": "markdown",
   "id": "e951d97a",
   "metadata": {},
   "source": [
    "**Visualising the Actual and Predicted Maximum Decibel**"
   ]
  },
  {
   "cell_type": "code",
   "execution_count": 29,
   "id": "61b5a040",
   "metadata": {},
   "outputs": [
    {
     "data": {
      "image/png": "[encoded data removed]",
      "text/plain": [
       "<Figure size 720x360 with 1 Axes>"
      ]
     },
     "metadata": {
      "needs_background": "light"
     },
     "output_type": "display_data"
    }
   ],
   "source": [
    "plt.figure(figsize = (10,5))\n",
    "\n",
    "plt.plot(range(len(y_test)), y_test)\n",
    "plt.plot(range(len(y_test)), predicted)\n",
    "\n",
    "plt.legend(['Actual', 'Predicted'])\n",
    "plt.title('Actual and Predicted of Maximum Decibel')\n",
    "\n",
    "plt.show()"
   ]
  },
  {
   "cell_type": "markdown",
   "id": "8ebb1c65",
   "metadata": {},
   "source": [
    "## <center>5. Evaluating the model <a class = \"anchor\" id = \"chapter5\"> </a></center>"
   ]
  },
  {
   "cell_type": "code",
   "execution_count": 30,
   "id": "fe8213a3",
   "metadata": {},
   "outputs": [
    {
     "name": "stdout",
     "output_type": "stream",
     "text": [
      "The mean_squared_error is::  8.731419988685788\n",
      "The r2_score is::  -0.2621578126191433\n"
     ]
    }
   ],
   "source": [
    "print('The mean_squared_error is:: ', mean_squared_error(y_test, predicted))\n",
    "print('The r2_score is:: ', r2_score(y_test, predicted))"
   ]
  },
  {
   "cell_type": "markdown",
   "id": "e25377cb",
   "metadata": {},
   "source": [
    "## <center>6. Conclusion <a class = \"anchor\" id = \"chapter6\"> </a></center>"
   ]
  },
  {
   "cell_type": "markdown",
   "id": "b7b89138",
   "metadata": {},
   "source": [
    "In summary, the obtained MSE of 8.7314 indicates that there is room for improvement in the model's accuracy, and the negative R2 score of -0.2622 suggests that the model is performing worse than a basic mean prediction model. Further analysis and adjustments may be needed to enhance the model's performance and better understand the relationships between the variables."
   ]
  },
  {
   "cell_type": "markdown",
   "id": "33110aeb",
   "metadata": {},
   "source": [
    "# <center><font color='#000000'>Thank YOu<font><a class='anchor' id='top'></a></center>"
   ]
  },
  {
   "cell_type": "code",
   "execution_count": null,
   "id": "24329989",
   "metadata": {},
   "outputs": [],
   "source": []
  }
 ],
 "metadata": {
  "kernelspec": {
   "display_name": "Python 3 (ipykernel)",
   "language": "python",
   "name": "python3"
  },
  "language_info": {
   "codemirror_mode": {
    "name": "ipython",
    "version": 3
   },
   "file_extension": ".py",
   "mimetype": "text/x-python",
   "name": "python",
   "nbconvert_exporter": "python",
   "pygments_lexer": "ipython3",
   "version": "3.9.12"
  }
 },
 "nbformat": 4,
 "nbformat_minor": 5
}
